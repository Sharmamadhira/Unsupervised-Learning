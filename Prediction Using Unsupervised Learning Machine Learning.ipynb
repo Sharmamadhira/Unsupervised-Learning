{
 "cells": [
  {
   "cell_type": "markdown",
   "metadata": {},
   "source": [
    "## Madhira Durga Dattatreya Sarma\n",
    "Data Science and Business Analytics Intern\n",
    "\n",
    "The Sparks Foundation                                                "
   ]
  },
  {
   "cell_type": "markdown",
   "metadata": {},
   "source": [
    "# TASK 1: Prediction Using Unsupervised Learning Machine Learning"
   ]
  },
  {
   "cell_type": "markdown",
   "metadata": {},
   "source": [
    "### Problem Statement"
   ]
  },
  {
   "cell_type": "markdown",
   "metadata": {},
   "source": [
    "From the given ‘Iris’ dataset, predict the optimum number of clusters and\n",
    "represent it visually."
   ]
  },
  {
   "cell_type": "markdown",
   "metadata": {},
   "source": [
    "### Approach"
   ]
  },
  {
   "cell_type": "markdown",
   "metadata": {},
   "source": [
    "Predicting-Iris-Flower-Species-With-K-Means-Clustering"
   ]
  },
  {
   "cell_type": "markdown",
   "metadata": {},
   "source": [
    "### What is K-Mean Clustering?"
   ]
  },
  {
   "cell_type": "markdown",
   "metadata": {},
   "source": [
    "k-means clustering is a method of vector quantization, originally from signal processing, that aims to partition n observations into k clusters in which each observation belongs to the cluster with the nearest mean (cluster centers or cluster centroid), serving as a prototype of the cluster. This results in a partitioning of the data space into Voronoi cells. It is popular for cluster analysis in data mining. k-means clustering minimizes within-cluster variances (squared Euclidean distances), but not regular Euclidean distances, which would be the more difficult Weber problem: the mean optimizes squared errors, whereas only the geometric median minimizes Euclidean distances. For instance, better Euclidean solutions can be found using k-medians and k-medoids."
   ]
  },
  {
   "cell_type": "markdown",
   "metadata": {},
   "source": [
    "## Step 1: Importing the required Library"
   ]
  },
  {
   "cell_type": "code",
   "execution_count": 1,
   "metadata": {},
   "outputs": [],
   "source": [
    "import numpy as np\n",
    "import pandas as pd\n",
    "import matplotlib.pyplot as plt\n",
    "import seaborn as sns\n",
    "\n",
    "import datetime as dt\n",
    "\n",
    "\n",
    "from sklearn.preprocessing import StandardScaler\n",
    "from sklearn.cluster import KMeans\n",
    "from sklearn.metrics import silhouette_score\n",
    "\n",
    "import warnings\n",
    "warnings.filterwarnings('ignore')"
   ]
  },
  {
   "cell_type": "markdown",
   "metadata": {},
   "source": [
    "## Step 2: Data Preparation "
   ]
  },
  {
   "cell_type": "markdown",
   "metadata": {},
   "source": [
    "### Data Loading"
   ]
  },
  {
   "cell_type": "code",
   "execution_count": 2,
   "metadata": {},
   "outputs": [
    {
     "data": {
      "text/html": [
       "<div>\n",
       "<style scoped>\n",
       "    .dataframe tbody tr th:only-of-type {\n",
       "        vertical-align: middle;\n",
       "    }\n",
       "\n",
       "    .dataframe tbody tr th {\n",
       "        vertical-align: top;\n",
       "    }\n",
       "\n",
       "    .dataframe thead th {\n",
       "        text-align: right;\n",
       "    }\n",
       "</style>\n",
       "<table border=\"1\" class=\"dataframe\">\n",
       "  <thead>\n",
       "    <tr style=\"text-align: right;\">\n",
       "      <th></th>\n",
       "      <th>Id</th>\n",
       "      <th>SepalLengthCm</th>\n",
       "      <th>SepalWidthCm</th>\n",
       "      <th>PetalLengthCm</th>\n",
       "      <th>PetalWidthCm</th>\n",
       "      <th>Species</th>\n",
       "    </tr>\n",
       "  </thead>\n",
       "  <tbody>\n",
       "    <tr>\n",
       "      <td>0</td>\n",
       "      <td>1</td>\n",
       "      <td>5.1</td>\n",
       "      <td>3.5</td>\n",
       "      <td>1.4</td>\n",
       "      <td>0.2</td>\n",
       "      <td>Iris-setosa</td>\n",
       "    </tr>\n",
       "    <tr>\n",
       "      <td>1</td>\n",
       "      <td>2</td>\n",
       "      <td>4.9</td>\n",
       "      <td>3.0</td>\n",
       "      <td>1.4</td>\n",
       "      <td>0.2</td>\n",
       "      <td>Iris-setosa</td>\n",
       "    </tr>\n",
       "    <tr>\n",
       "      <td>2</td>\n",
       "      <td>3</td>\n",
       "      <td>4.7</td>\n",
       "      <td>3.2</td>\n",
       "      <td>1.3</td>\n",
       "      <td>0.2</td>\n",
       "      <td>Iris-setosa</td>\n",
       "    </tr>\n",
       "    <tr>\n",
       "      <td>3</td>\n",
       "      <td>4</td>\n",
       "      <td>4.6</td>\n",
       "      <td>3.1</td>\n",
       "      <td>1.5</td>\n",
       "      <td>0.2</td>\n",
       "      <td>Iris-setosa</td>\n",
       "    </tr>\n",
       "    <tr>\n",
       "      <td>4</td>\n",
       "      <td>5</td>\n",
       "      <td>5.0</td>\n",
       "      <td>3.6</td>\n",
       "      <td>1.4</td>\n",
       "      <td>0.2</td>\n",
       "      <td>Iris-setosa</td>\n",
       "    </tr>\n",
       "  </tbody>\n",
       "</table>\n",
       "</div>"
      ],
      "text/plain": [
       "   Id  SepalLengthCm  SepalWidthCm  PetalLengthCm  PetalWidthCm      Species\n",
       "0   1            5.1           3.5            1.4           0.2  Iris-setosa\n",
       "1   2            4.9           3.0            1.4           0.2  Iris-setosa\n",
       "2   3            4.7           3.2            1.3           0.2  Iris-setosa\n",
       "3   4            4.6           3.1            1.5           0.2  Iris-setosa\n",
       "4   5            5.0           3.6            1.4           0.2  Iris-setosa"
      ]
     },
     "execution_count": 2,
     "metadata": {},
     "output_type": "execute_result"
    }
   ],
   "source": [
    "# read the dataset\n",
    "iris_data = pd.read_csv(\"Iris.csv\")\n",
    "iris_data.head()"
   ]
  },
  {
   "cell_type": "markdown",
   "metadata": {},
   "source": [
    "### Data Inspection"
   ]
  },
  {
   "cell_type": "code",
   "execution_count": 3,
   "metadata": {
    "scrolled": true
   },
   "outputs": [
    {
     "name": "stdout",
     "output_type": "stream",
     "text": [
      "<class 'pandas.core.frame.DataFrame'>\n",
      "RangeIndex: 150 entries, 0 to 149\n",
      "Data columns (total 6 columns):\n",
      "Id               150 non-null int64\n",
      "SepalLengthCm    150 non-null float64\n",
      "SepalWidthCm     150 non-null float64\n",
      "PetalLengthCm    150 non-null float64\n",
      "PetalWidthCm     150 non-null float64\n",
      "Species          150 non-null object\n",
      "dtypes: float64(4), int64(1), object(1)\n",
      "memory usage: 7.2+ KB\n"
     ]
    }
   ],
   "source": [
    "# basics of the iris data\n",
    "iris_data.info()"
   ]
  },
  {
   "cell_type": "code",
   "execution_count": 4,
   "metadata": {},
   "outputs": [
    {
     "data": {
      "text/plain": [
       "(150, 6)"
      ]
     },
     "execution_count": 4,
     "metadata": {},
     "output_type": "execute_result"
    }
   ],
   "source": [
    "iris_data.shape"
   ]
  },
  {
   "cell_type": "code",
   "execution_count": 5,
   "metadata": {},
   "outputs": [
    {
     "data": {
      "text/html": [
       "<div>\n",
       "<style scoped>\n",
       "    .dataframe tbody tr th:only-of-type {\n",
       "        vertical-align: middle;\n",
       "    }\n",
       "\n",
       "    .dataframe tbody tr th {\n",
       "        vertical-align: top;\n",
       "    }\n",
       "\n",
       "    .dataframe thead th {\n",
       "        text-align: right;\n",
       "    }\n",
       "</style>\n",
       "<table border=\"1\" class=\"dataframe\">\n",
       "  <thead>\n",
       "    <tr style=\"text-align: right;\">\n",
       "      <th></th>\n",
       "      <th>Id</th>\n",
       "      <th>SepalLengthCm</th>\n",
       "      <th>SepalWidthCm</th>\n",
       "      <th>PetalLengthCm</th>\n",
       "      <th>PetalWidthCm</th>\n",
       "    </tr>\n",
       "  </thead>\n",
       "  <tbody>\n",
       "    <tr>\n",
       "      <td>count</td>\n",
       "      <td>150.000000</td>\n",
       "      <td>150.000000</td>\n",
       "      <td>150.000000</td>\n",
       "      <td>150.000000</td>\n",
       "      <td>150.000000</td>\n",
       "    </tr>\n",
       "    <tr>\n",
       "      <td>mean</td>\n",
       "      <td>75.500000</td>\n",
       "      <td>5.843333</td>\n",
       "      <td>3.054000</td>\n",
       "      <td>3.758667</td>\n",
       "      <td>1.198667</td>\n",
       "    </tr>\n",
       "    <tr>\n",
       "      <td>std</td>\n",
       "      <td>43.445368</td>\n",
       "      <td>0.828066</td>\n",
       "      <td>0.433594</td>\n",
       "      <td>1.764420</td>\n",
       "      <td>0.763161</td>\n",
       "    </tr>\n",
       "    <tr>\n",
       "      <td>min</td>\n",
       "      <td>1.000000</td>\n",
       "      <td>4.300000</td>\n",
       "      <td>2.000000</td>\n",
       "      <td>1.000000</td>\n",
       "      <td>0.100000</td>\n",
       "    </tr>\n",
       "    <tr>\n",
       "      <td>25%</td>\n",
       "      <td>38.250000</td>\n",
       "      <td>5.100000</td>\n",
       "      <td>2.800000</td>\n",
       "      <td>1.600000</td>\n",
       "      <td>0.300000</td>\n",
       "    </tr>\n",
       "    <tr>\n",
       "      <td>50%</td>\n",
       "      <td>75.500000</td>\n",
       "      <td>5.800000</td>\n",
       "      <td>3.000000</td>\n",
       "      <td>4.350000</td>\n",
       "      <td>1.300000</td>\n",
       "    </tr>\n",
       "    <tr>\n",
       "      <td>75%</td>\n",
       "      <td>112.750000</td>\n",
       "      <td>6.400000</td>\n",
       "      <td>3.300000</td>\n",
       "      <td>5.100000</td>\n",
       "      <td>1.800000</td>\n",
       "    </tr>\n",
       "    <tr>\n",
       "      <td>max</td>\n",
       "      <td>150.000000</td>\n",
       "      <td>7.900000</td>\n",
       "      <td>4.400000</td>\n",
       "      <td>6.900000</td>\n",
       "      <td>2.500000</td>\n",
       "    </tr>\n",
       "  </tbody>\n",
       "</table>\n",
       "</div>"
      ],
      "text/plain": [
       "               Id  SepalLengthCm  SepalWidthCm  PetalLengthCm  PetalWidthCm\n",
       "count  150.000000     150.000000    150.000000     150.000000    150.000000\n",
       "mean    75.500000       5.843333      3.054000       3.758667      1.198667\n",
       "std     43.445368       0.828066      0.433594       1.764420      0.763161\n",
       "min      1.000000       4.300000      2.000000       1.000000      0.100000\n",
       "25%     38.250000       5.100000      2.800000       1.600000      0.300000\n",
       "50%     75.500000       5.800000      3.000000       4.350000      1.300000\n",
       "75%    112.750000       6.400000      3.300000       5.100000      1.800000\n",
       "max    150.000000       7.900000      4.400000       6.900000      2.500000"
      ]
     },
     "execution_count": 5,
     "metadata": {},
     "output_type": "execute_result"
    }
   ],
   "source": [
    "iris_data.describe()"
   ]
  },
  {
   "cell_type": "markdown",
   "metadata": {},
   "source": [
    "### Data Cleaning"
   ]
  },
  {
   "cell_type": "code",
   "execution_count": 6,
   "metadata": {},
   "outputs": [
    {
     "data": {
      "text/plain": [
       "Id               0\n",
       "SepalLengthCm    0\n",
       "SepalWidthCm     0\n",
       "PetalLengthCm    0\n",
       "PetalWidthCm     0\n",
       "Species          0\n",
       "dtype: int64"
      ]
     },
     "execution_count": 6,
     "metadata": {},
     "output_type": "execute_result"
    }
   ],
   "source": [
    "iris_data.isnull().sum()"
   ]
  },
  {
   "cell_type": "markdown",
   "metadata": {},
   "source": [
    "No NULL values are observed."
   ]
  },
  {
   "cell_type": "code",
   "execution_count": 7,
   "metadata": {},
   "outputs": [
    {
     "data": {
      "text/plain": [
       "Series([], dtype: int64)"
      ]
     },
     "execution_count": 7,
     "metadata": {},
     "output_type": "execute_result"
    }
   ],
   "source": [
    "#Checking if any columns having unique value ie only 1 value\n",
    "unique =iris_data.nunique()\n",
    "unique = unique[unique.values ==1]\n",
    "unique"
   ]
  },
  {
   "cell_type": "markdown",
   "metadata": {},
   "source": [
    "No unique value"
   ]
  },
  {
   "cell_type": "code",
   "execution_count": 8,
   "metadata": {},
   "outputs": [
    {
     "data": {
      "text/plain": [
       "Iris-virginica     50\n",
       "Iris-setosa        50\n",
       "Iris-versicolor    50\n",
       "Name: Species, dtype: int64"
      ]
     },
     "execution_count": 8,
     "metadata": {},
     "output_type": "execute_result"
    }
   ],
   "source": [
    "iris_data.Species.value_counts()"
   ]
  },
  {
   "cell_type": "code",
   "execution_count": 9,
   "metadata": {},
   "outputs": [],
   "source": [
    "#dropping the id column as it is not required\n",
    "iris_data.drop('Id', axis =1, inplace = True)"
   ]
  },
  {
   "cell_type": "code",
   "execution_count": 10,
   "metadata": {},
   "outputs": [
    {
     "data": {
      "text/html": [
       "<div>\n",
       "<style scoped>\n",
       "    .dataframe tbody tr th:only-of-type {\n",
       "        vertical-align: middle;\n",
       "    }\n",
       "\n",
       "    .dataframe tbody tr th {\n",
       "        vertical-align: top;\n",
       "    }\n",
       "\n",
       "    .dataframe thead th {\n",
       "        text-align: right;\n",
       "    }\n",
       "</style>\n",
       "<table border=\"1\" class=\"dataframe\">\n",
       "  <thead>\n",
       "    <tr style=\"text-align: right;\">\n",
       "      <th></th>\n",
       "      <th>SepalLengthCm</th>\n",
       "      <th>SepalWidthCm</th>\n",
       "      <th>PetalLengthCm</th>\n",
       "      <th>PetalWidthCm</th>\n",
       "      <th>Species</th>\n",
       "    </tr>\n",
       "  </thead>\n",
       "  <tbody>\n",
       "    <tr>\n",
       "      <td>0</td>\n",
       "      <td>5.1</td>\n",
       "      <td>3.5</td>\n",
       "      <td>1.4</td>\n",
       "      <td>0.2</td>\n",
       "      <td>Iris-setosa</td>\n",
       "    </tr>\n",
       "    <tr>\n",
       "      <td>1</td>\n",
       "      <td>4.9</td>\n",
       "      <td>3.0</td>\n",
       "      <td>1.4</td>\n",
       "      <td>0.2</td>\n",
       "      <td>Iris-setosa</td>\n",
       "    </tr>\n",
       "    <tr>\n",
       "      <td>2</td>\n",
       "      <td>4.7</td>\n",
       "      <td>3.2</td>\n",
       "      <td>1.3</td>\n",
       "      <td>0.2</td>\n",
       "      <td>Iris-setosa</td>\n",
       "    </tr>\n",
       "    <tr>\n",
       "      <td>3</td>\n",
       "      <td>4.6</td>\n",
       "      <td>3.1</td>\n",
       "      <td>1.5</td>\n",
       "      <td>0.2</td>\n",
       "      <td>Iris-setosa</td>\n",
       "    </tr>\n",
       "    <tr>\n",
       "      <td>4</td>\n",
       "      <td>5.0</td>\n",
       "      <td>3.6</td>\n",
       "      <td>1.4</td>\n",
       "      <td>0.2</td>\n",
       "      <td>Iris-setosa</td>\n",
       "    </tr>\n",
       "  </tbody>\n",
       "</table>\n",
       "</div>"
      ],
      "text/plain": [
       "   SepalLengthCm  SepalWidthCm  PetalLengthCm  PetalWidthCm      Species\n",
       "0            5.1           3.5            1.4           0.2  Iris-setosa\n",
       "1            4.9           3.0            1.4           0.2  Iris-setosa\n",
       "2            4.7           3.2            1.3           0.2  Iris-setosa\n",
       "3            4.6           3.1            1.5           0.2  Iris-setosa\n",
       "4            5.0           3.6            1.4           0.2  Iris-setosa"
      ]
     },
     "execution_count": 10,
     "metadata": {},
     "output_type": "execute_result"
    }
   ],
   "source": [
    "iris_data.head()"
   ]
  },
  {
   "cell_type": "markdown",
   "metadata": {},
   "source": [
    "## Step 3: EDA"
   ]
  },
  {
   "cell_type": "code",
   "execution_count": 11,
   "metadata": {},
   "outputs": [
    {
     "data": {
      "image/png": "[encoded data removed]",
      "text/plain": [
       "<Figure size 2160x2880 with 4 Axes>"
      ]
     },
     "metadata": {
      "needs_background": "light"
     },
     "output_type": "display_data"
    }
   ],
   "source": [
    "plt.figure(figsize = (30,40))\n",
    "feature = iris_data.columns[:-1]\n",
    "for i in enumerate(feature):\n",
    "    plt.subplot(6,3, i[0]+1)\n",
    "    sns.distplot(iris_data[i[1]])"
   ]
  },
  {
   "cell_type": "markdown",
   "metadata": {},
   "source": [
    "1. SepalLengthCm, SepalWidthCm are Normal Distributed\n",
    "2. PetalLengthCm, PetalWidthCm are not Normal Distributed"
   ]
  },
  {
   "cell_type": "code",
   "execution_count": 12,
   "metadata": {},
   "outputs": [
    {
     "data": {
      "text/plain": [
       "<matplotlib.axes._subplots.AxesSubplot at 0x15023f84c48>"
      ]
     },
     "execution_count": 12,
     "metadata": {},
     "output_type": "execute_result"
    },
    {
     "data": {
      "image/png": "[encoded data removed]",
      "text/plain": [
       "<Figure size 720x720 with 2 Axes>"
      ]
     },
     "metadata": {
      "needs_background": "light"
     },
     "output_type": "display_data"
    }
   ],
   "source": [
    "# Heatmap to understand the attributes dependency\n",
    "\n",
    "# Let us draw heatmap to understand the corelation better.\n",
    "plt.figure(figsize = (10,10))  \n",
    "sns.heatmap(iris_data.corr(),annot = True,cmap=\"YlGnBu\")"
   ]
  },
  {
   "cell_type": "markdown",
   "metadata": {},
   "source": [
    "From the above heatmap we can say Petal Length and Petal Width are highly correlated"
   ]
  },
  {
   "cell_type": "code",
   "execution_count": 13,
   "metadata": {},
   "outputs": [
    {
     "data": {
      "image/png": "[encoded data removed]",
      "text/plain": [
       "<Figure size 2160x2880 with 4 Axes>"
      ]
     },
     "metadata": {
      "needs_background": "light"
     },
     "output_type": "display_data"
    }
   ],
   "source": [
    "plt.figure(figsize = (30,40))\n",
    "feature = iris_data.columns[:-1]\n",
    "for i in enumerate(feature):\n",
    "    plt.subplot(6,3, i[0]+1)\n",
    "    sns.boxplot(iris_data[i[1]])"
   ]
  },
  {
   "cell_type": "markdown",
   "metadata": {},
   "source": [
    "From the above boxplot we can say that there are outliers in the column 'SepalWidthCm'"
   ]
  },
  {
   "cell_type": "code",
   "execution_count": 14,
   "metadata": {},
   "outputs": [],
   "source": [
    "# To remove outliers from 'sepal width (cm)'\n",
    "q1 = iris_data['SepalWidthCm'].quantile(0.25)\n",
    "q3 = iris_data['SepalWidthCm'].quantile(0.75)"
   ]
  },
  {
   "cell_type": "code",
   "execution_count": 15,
   "metadata": {},
   "outputs": [
    {
     "data": {
      "text/plain": [
       "(146, 5)"
      ]
     },
     "execution_count": 15,
     "metadata": {},
     "output_type": "execute_result"
    }
   ],
   "source": [
    "# To find out the number of rows and column after outlier treatment\n",
    "iqr = q3 - q1\n",
    "iris_data = iris_data[(iris_data['SepalWidthCm'] >= q1-1.5*iqr) & (iris_data['SepalWidthCm'] <= q3+1.5*iqr)]\n",
    "iris_data.shape # To find out the number of rows and column after outlier treatment"
   ]
  },
  {
   "cell_type": "markdown",
   "metadata": {},
   "source": [
    "We can see that after outlier treatment the number of roes are reduced to 147 from 150"
   ]
  },
  {
   "cell_type": "code",
   "execution_count": 16,
   "metadata": {},
   "outputs": [
    {
     "data": {
      "image/png": "[encoded data removed]",
      "text/plain": [
       "<Figure size 432x288 with 1 Axes>"
      ]
     },
     "metadata": {
      "needs_background": "light"
     },
     "output_type": "display_data"
    }
   ],
   "source": [
    "# Bloxplot for sepal width (cm) after outlier treatment\n",
    "sns.boxplot(x=iris_data['SepalWidthCm'])\n",
    "plt.show()"
   ]
  },
  {
   "cell_type": "markdown",
   "metadata": {},
   "source": [
    "## Step 4: Clustering"
   ]
  },
  {
   "cell_type": "code",
   "execution_count": 17,
   "metadata": {},
   "outputs": [
    {
     "data": {
      "text/plain": [
       "array([[-0.9105154 ,  1.1757891 , -1.3748782 , -1.34589856],\n",
       "       [-1.15112218, -0.09392398, -1.3748782 , -1.34589856],\n",
       "       [-1.39172896,  0.41396125, -1.43198551, -1.34589856],\n",
       "       [-1.51203236,  0.16001863, -1.31777088, -1.34589856],\n",
       "       [-1.03081879,  1.42973171, -1.3748782 , -1.34589856],\n",
       "       [-0.54960522,  2.19155956, -1.20355625, -1.08196143],\n",
       "       [-1.51203236,  0.92184648, -1.3748782 , -1.21392999],\n",
       "       [-1.03081879,  0.92184648, -1.31777088, -1.34589856],\n",
       "       [-1.75263914, -0.3478666 , -1.3748782 , -1.34589856],\n",
       "       [-1.15112218,  0.16001863, -1.31777088, -1.47786712],\n",
       "       [-0.54960522,  1.68367433, -1.31777088, -1.34589856],\n",
       "       [-1.27142557,  0.92184648, -1.26066356, -1.34589856],\n",
       "       [-1.27142557, -0.09392398, -1.3748782 , -1.47786712],\n",
       "       [-1.87294253, -0.09392398, -1.54620014, -1.47786712],\n",
       "       [-0.06839165,  2.44550218, -1.48909283, -1.34589856],\n",
       "       [-0.54960522,  2.19155956, -1.43198551, -1.08196143],\n",
       "       [-0.9105154 ,  1.1757891 , -1.3748782 , -1.21392999],\n",
       "       [-0.18869505,  1.93761695, -1.20355625, -1.21392999],\n",
       "       [-0.9105154 ,  1.93761695, -1.31777088, -1.21392999],\n",
       "       [-0.54960522,  0.92184648, -1.20355625, -1.34589856],\n",
       "       [-0.9105154 ,  1.68367433, -1.31777088, -1.08196143],\n",
       "       [-1.51203236,  1.42973171, -1.60330746, -1.34589856],\n",
       "       [-0.9105154 ,  0.66790387, -1.20355625, -0.94999287],\n",
       "       [-1.27142557,  0.92184648, -1.08934161, -1.34589856],\n",
       "       [-1.03081879, -0.09392398, -1.26066356, -1.34589856],\n",
       "       [-1.03081879,  0.92184648, -1.26066356, -1.08196143],\n",
       "       [-0.790212  ,  1.1757891 , -1.31777088, -1.34589856],\n",
       "       [-0.790212  ,  0.92184648, -1.3748782 , -1.34589856],\n",
       "       [-1.39172896,  0.41396125, -1.26066356, -1.34589856],\n",
       "       [-1.27142557,  0.16001863, -1.26066356, -1.34589856],\n",
       "       [-0.54960522,  0.92184648, -1.31777088, -1.08196143],\n",
       "       [-1.15112218,  0.16001863, -1.31777088, -1.47786712],\n",
       "       [-1.03081879,  0.41396125, -1.48909283, -1.34589856],\n",
       "       [-0.42930183,  1.1757891 , -1.43198551, -1.34589856],\n",
       "       [-1.15112218,  0.16001863, -1.31777088, -1.47786712],\n",
       "       [-1.75263914, -0.09392398, -1.43198551, -1.34589856],\n",
       "       [-0.9105154 ,  0.92184648, -1.31777088, -1.34589856],\n",
       "       [-1.03081879,  1.1757891 , -1.43198551, -1.21392999],\n",
       "       [-1.63233575, -1.87152229, -1.43198551, -1.21392999],\n",
       "       [-1.75263914,  0.41396125, -1.43198551, -1.34589856],\n",
       "       [-1.03081879,  1.1757891 , -1.26066356, -0.81802431],\n",
       "       [-0.9105154 ,  1.93761695, -1.08934161, -1.08196143],\n",
       "       [-1.27142557, -0.09392398, -1.3748782 , -1.21392999],\n",
       "       [-0.9105154 ,  1.93761695, -1.26066356, -1.34589856],\n",
       "       [-1.51203236,  0.41396125, -1.3748782 , -1.34589856],\n",
       "       [-0.66990861,  1.68367433, -1.31777088, -1.34589856],\n",
       "       [-1.03081879,  0.66790387, -1.3748782 , -1.34589856],\n",
       "       [ 1.37524905,  0.41396125,  0.50966324,  0.23772419],\n",
       "       [ 0.6534287 ,  0.41396125,  0.39544861,  0.36969275],\n",
       "       [ 1.25494566,  0.16001863,  0.62387787,  0.36969275],\n",
       "       [-0.42930183, -1.87152229,  0.10991203,  0.10575563],\n",
       "       [ 0.77373209, -0.60180921,  0.45255592,  0.36969275],\n",
       "       [-0.18869505, -0.60180921,  0.39544861,  0.10575563],\n",
       "       [ 0.5331253 ,  0.66790387,  0.50966324,  0.50166132],\n",
       "       [-1.15112218, -1.61757968, -0.28983919, -0.29015006],\n",
       "       [ 0.89403548, -0.3478666 ,  0.45255592,  0.10575563],\n",
       "       [-0.790212  , -0.85575183,  0.05280471,  0.23772419],\n",
       "       [ 0.05191174, -0.09392398,  0.22412666,  0.36969275],\n",
       "       [ 0.17221513, -2.12546491,  0.10991203, -0.29015006],\n",
       "       [ 0.29251852, -0.3478666 ,  0.50966324,  0.23772419],\n",
       "       [-0.30899844, -0.3478666 , -0.11851724,  0.10575563],\n",
       "       [ 1.01433887,  0.16001863,  0.33834129,  0.23772419],\n",
       "       [-0.30899844, -0.09392398,  0.39544861,  0.36969275],\n",
       "       [-0.06839165, -0.85575183,  0.16701934, -0.29015006],\n",
       "       [ 0.41282191, -2.12546491,  0.39544861,  0.36969275],\n",
       "       [-0.30899844, -1.36363706,  0.05280471, -0.1581815 ],\n",
       "       [ 0.05191174,  0.41396125,  0.56677056,  0.76559844],\n",
       "       [ 0.29251852, -0.60180921,  0.10991203,  0.10575563],\n",
       "       [ 0.5331253 , -1.36363706,  0.62387787,  0.36969275],\n",
       "       [ 0.29251852, -0.60180921,  0.50966324, -0.02621293],\n",
       "       [ 0.6534287 , -0.3478666 ,  0.28123398,  0.10575563],\n",
       "       [ 0.89403548, -0.09392398,  0.33834129,  0.23772419],\n",
       "       [ 1.13464226, -0.60180921,  0.56677056,  0.23772419],\n",
       "       [ 1.01433887, -0.09392398,  0.68098519,  0.63362988],\n",
       "       [ 0.17221513, -0.3478666 ,  0.39544861,  0.36969275],\n",
       "       [-0.18869505, -1.10969444, -0.17562455, -0.29015006],\n",
       "       [-0.42930183, -1.61757968, -0.00430261, -0.1581815 ],\n",
       "       [-0.42930183, -1.61757968, -0.06140992, -0.29015006],\n",
       "       [-0.06839165, -0.85575183,  0.05280471, -0.02621293],\n",
       "       [ 0.17221513, -0.85575183,  0.73809251,  0.50166132],\n",
       "       [-0.54960522, -0.09392398,  0.39544861,  0.36969275],\n",
       "       [ 0.17221513,  0.92184648,  0.39544861,  0.50166132],\n",
       "       [ 1.01433887,  0.16001863,  0.50966324,  0.36969275],\n",
       "       [ 0.5331253 , -1.87152229,  0.33834129,  0.10575563],\n",
       "       [-0.30899844, -0.09392398,  0.16701934,  0.10575563],\n",
       "       [-0.42930183, -1.36363706,  0.10991203,  0.10575563],\n",
       "       [-0.42930183, -1.10969444,  0.33834129, -0.02621293],\n",
       "       [ 0.29251852, -0.09392398,  0.45255592,  0.23772419],\n",
       "       [-0.06839165, -1.10969444,  0.10991203, -0.02621293],\n",
       "       [-1.03081879, -1.87152229, -0.28983919, -0.29015006],\n",
       "       [-0.30899844, -0.85575183,  0.22412666,  0.10575563],\n",
       "       [-0.18869505, -0.09392398,  0.22412666, -0.02621293],\n",
       "       [-0.18869505, -0.3478666 ,  0.22412666,  0.10575563],\n",
       "       [ 0.41282191, -0.3478666 ,  0.28123398,  0.10575563],\n",
       "       [-0.9105154 , -1.36363706, -0.46116114, -0.1581815 ],\n",
       "       [-0.18869505, -0.60180921,  0.16701934,  0.10575563],\n",
       "       [ 0.5331253 ,  0.66790387,  1.25205835,  1.68937838],\n",
       "       [-0.06839165, -0.85575183,  0.73809251,  0.897567  ],\n",
       "       [ 1.49555244, -0.09392398,  1.19495103,  1.16150413],\n",
       "       [ 0.5331253 , -0.3478666 ,  1.02362909,  0.76559844],\n",
       "       [ 0.77373209, -0.09392398,  1.13784372,  1.29347269],\n",
       "       [ 2.0970694 , -0.09392398,  1.59470225,  1.16150413],\n",
       "       [-1.15112218, -1.36363706,  0.39544861,  0.63362988],\n",
       "       [ 1.73615922, -0.3478666 ,  1.4233803 ,  0.76559844],\n",
       "       [ 1.01433887, -1.36363706,  1.13784372,  0.76559844],\n",
       "       [ 1.61585583,  1.42973171,  1.30916567,  1.68937838],\n",
       "       [ 0.77373209,  0.41396125,  0.73809251,  1.02953556],\n",
       "       [ 0.6534287 , -0.85575183,  0.85230714,  0.897567  ],\n",
       "       [ 1.13464226, -0.09392398,  0.96652177,  1.16150413],\n",
       "       [-0.18869505, -1.36363706,  0.68098519,  1.02953556],\n",
       "       [-0.06839165, -0.60180921,  0.73809251,  1.55740981],\n",
       "       [ 0.6534287 ,  0.41396125,  0.85230714,  1.42544125],\n",
       "       [ 0.77373209, -0.09392398,  0.96652177,  0.76559844],\n",
       "       [ 2.21737279,  1.93761695,  1.65180956,  1.29347269],\n",
       "       [ 2.21737279, -1.10969444,  1.7660242 ,  1.42544125],\n",
       "       [ 0.17221513, -2.12546491,  0.68098519,  0.36969275],\n",
       "       [ 1.25494566,  0.41396125,  1.0807364 ,  1.42544125],\n",
       "       [-0.30899844, -0.60180921,  0.62387787,  1.02953556],\n",
       "       [ 2.21737279, -0.60180921,  1.65180956,  1.02953556],\n",
       "       [ 0.5331253 , -0.85575183,  0.62387787,  0.76559844],\n",
       "       [ 1.01433887,  0.66790387,  1.0807364 ,  1.16150413],\n",
       "       [ 1.61585583,  0.41396125,  1.25205835,  0.76559844],\n",
       "       [ 0.41282191, -0.60180921,  0.56677056,  0.76559844],\n",
       "       [ 0.29251852, -0.09392398,  0.62387787,  0.76559844],\n",
       "       [ 0.6534287 , -0.60180921,  1.02362909,  1.16150413],\n",
       "       [ 1.61585583, -0.09392398,  1.13784372,  0.50166132],\n",
       "       [ 1.85646261, -0.60180921,  1.30916567,  0.897567  ],\n",
       "       [ 2.45797957,  1.93761695,  1.48048762,  1.02953556],\n",
       "       [ 0.6534287 , -0.60180921,  1.02362909,  1.29347269],\n",
       "       [ 0.5331253 , -0.60180921,  0.73809251,  0.36969275],\n",
       "       [ 0.29251852, -1.10969444,  1.02362909,  0.23772419],\n",
       "       [ 2.21737279, -0.09392398,  1.30916567,  1.42544125],\n",
       "       [ 0.5331253 ,  0.92184648,  1.02362909,  1.55740981],\n",
       "       [ 0.6534287 ,  0.16001863,  0.96652177,  0.76559844],\n",
       "       [ 0.17221513, -0.09392398,  0.56677056,  0.76559844],\n",
       "       [ 1.25494566,  0.16001863,  0.90941445,  1.16150413],\n",
       "       [ 1.01433887,  0.16001863,  1.02362909,  1.55740981],\n",
       "       [ 1.25494566,  0.16001863,  0.73809251,  1.42544125],\n",
       "       [-0.06839165, -0.85575183,  0.73809251,  0.897567  ],\n",
       "       [ 1.13464226,  0.41396125,  1.19495103,  1.42544125],\n",
       "       [ 1.01433887,  0.66790387,  1.0807364 ,  1.68937838],\n",
       "       [ 1.01433887, -0.09392398,  0.79519982,  1.42544125],\n",
       "       [ 0.5331253 , -1.36363706,  0.68098519,  0.897567  ],\n",
       "       [ 0.77373209, -0.09392398,  0.79519982,  1.02953556],\n",
       "       [ 0.41282191,  0.92184648,  0.90941445,  1.42544125],\n",
       "       [ 0.05191174, -0.09392398,  0.73809251,  0.76559844]])"
      ]
     },
     "execution_count": 17,
     "metadata": {},
     "output_type": "execute_result"
    }
   ],
   "source": [
    "from sklearn.preprocessing import StandardScaler\n",
    "scaler = StandardScaler()\n",
    "iris = scaler.fit_transform(iris_data.drop('Species', axis = 1))\n",
    "iris"
   ]
  },
  {
   "cell_type": "code",
   "execution_count": 18,
   "metadata": {},
   "outputs": [
    {
     "data": {
      "text/html": [
       "<div>\n",
       "<style scoped>\n",
       "    .dataframe tbody tr th:only-of-type {\n",
       "        vertical-align: middle;\n",
       "    }\n",
       "\n",
       "    .dataframe tbody tr th {\n",
       "        vertical-align: top;\n",
       "    }\n",
       "\n",
       "    .dataframe thead th {\n",
       "        text-align: right;\n",
       "    }\n",
       "</style>\n",
       "<table border=\"1\" class=\"dataframe\">\n",
       "  <thead>\n",
       "    <tr style=\"text-align: right;\">\n",
       "      <th></th>\n",
       "      <th>SepalLengthCm</th>\n",
       "      <th>SepalWidthCm</th>\n",
       "      <th>PetalLengthCm</th>\n",
       "      <th>PetalWidthCm</th>\n",
       "    </tr>\n",
       "  </thead>\n",
       "  <tbody>\n",
       "    <tr>\n",
       "      <td>0</td>\n",
       "      <td>-0.910515</td>\n",
       "      <td>1.175789</td>\n",
       "      <td>-1.374878</td>\n",
       "      <td>-1.345899</td>\n",
       "    </tr>\n",
       "    <tr>\n",
       "      <td>1</td>\n",
       "      <td>-1.151122</td>\n",
       "      <td>-0.093924</td>\n",
       "      <td>-1.374878</td>\n",
       "      <td>-1.345899</td>\n",
       "    </tr>\n",
       "    <tr>\n",
       "      <td>2</td>\n",
       "      <td>-1.391729</td>\n",
       "      <td>0.413961</td>\n",
       "      <td>-1.431986</td>\n",
       "      <td>-1.345899</td>\n",
       "    </tr>\n",
       "    <tr>\n",
       "      <td>3</td>\n",
       "      <td>-1.512032</td>\n",
       "      <td>0.160019</td>\n",
       "      <td>-1.317771</td>\n",
       "      <td>-1.345899</td>\n",
       "    </tr>\n",
       "    <tr>\n",
       "      <td>4</td>\n",
       "      <td>-1.030819</td>\n",
       "      <td>1.429732</td>\n",
       "      <td>-1.374878</td>\n",
       "      <td>-1.345899</td>\n",
       "    </tr>\n",
       "  </tbody>\n",
       "</table>\n",
       "</div>"
      ],
      "text/plain": [
       "   SepalLengthCm  SepalWidthCm  PetalLengthCm  PetalWidthCm\n",
       "0      -0.910515      1.175789      -1.374878     -1.345899\n",
       "1      -1.151122     -0.093924      -1.374878     -1.345899\n",
       "2      -1.391729      0.413961      -1.431986     -1.345899\n",
       "3      -1.512032      0.160019      -1.317771     -1.345899\n",
       "4      -1.030819      1.429732      -1.374878     -1.345899"
      ]
     },
     "execution_count": 18,
     "metadata": {},
     "output_type": "execute_result"
    }
   ],
   "source": [
    "iris = pd.DataFrame(iris, columns = iris_data.columns[:-1])\n",
    "iris.head()"
   ]
  },
  {
   "cell_type": "markdown",
   "metadata": {},
   "source": [
    "### K-Mean Clustering"
   ]
  },
  {
   "cell_type": "code",
   "execution_count": 19,
   "metadata": {},
   "outputs": [
    {
     "data": {
      "text/plain": [
       "[<matplotlib.lines.Line2D at 0x15022702e08>]"
      ]
     },
     "execution_count": 19,
     "metadata": {},
     "output_type": "execute_result"
    },
    {
     "data": {
      "image/png": "[encoded data removed]",
      "text/plain": [
       "<Figure size 432x288 with 1 Axes>"
      ]
     },
     "metadata": {
      "needs_background": "light"
     },
     "output_type": "display_data"
    }
   ],
   "source": [
    "# Choose the value of K\n",
    "# Silhouette score\n",
    "# Elbow curve-ssd\n",
    "\n",
    "from sklearn.metrics import silhouette_score\n",
    "ss = []\n",
    "for k in range(2, 11):\n",
    "    kmean = KMeans(n_clusters = k).fit(iris)\n",
    "    ss.append([k, silhouette_score(iris, kmean.labels_)])\n",
    "temp = pd.DataFrame(ss)    \n",
    "plt.plot(temp[0], temp[1])"
   ]
  },
  {
   "cell_type": "code",
   "execution_count": 20,
   "metadata": {},
   "outputs": [
    {
     "data": {
      "image/png": "[encoded data removed]",
      "text/plain": [
       "<Figure size 432x288 with 1 Axes>"
      ]
     },
     "metadata": {
      "needs_background": "light"
     },
     "output_type": "display_data"
    }
   ],
   "source": [
    "# Finding the optimum number of clusters for k-means classification\n",
    "\n",
    "x = iris.iloc[:, [0, 1, 2, 3]].values\n",
    "\n",
    "from sklearn.cluster import KMeans\n",
    "wcss = []\n",
    "\n",
    "for i in range(1, 11):\n",
    "    kmeans = KMeans(n_clusters = i, init = 'k-means++', \n",
    "                    max_iter = 300, n_init = 10, random_state = 0)\n",
    "    kmeans.fit(x)\n",
    "    wcss.append(kmeans.inertia_)\n",
    "    \n",
    "# Plotting the results onto a line graph, \n",
    "# `allowing us to observe 'The elbow'\n",
    "plt.plot(range(1, 11), wcss)\n",
    "plt.title('The elbow method')\n",
    "plt.xlabel('Number of clusters')\n",
    "plt.ylabel('WCSS') # Within cluster sum of squares\n",
    "plt.show()"
   ]
  },
  {
   "cell_type": "markdown",
   "metadata": {},
   "source": [
    "You can clearly see why it is called 'The elbow method' from the above graph, the optimum clusters is where the elbow occurs. This is when the within cluster sum of squares (WCSS) doesn't decrease significantly with every iteration.\n",
    "\n",
    "From this we choose the number of clusters as 3."
   ]
  },
  {
   "cell_type": "code",
   "execution_count": 21,
   "metadata": {},
   "outputs": [],
   "source": [
    "# Applying kmeans to the dataset / Creating the kmeans classifier\n",
    "kmeans = KMeans(n_clusters = 3, init = 'k-means++',\n",
    "                max_iter = 300, n_init = 10, random_state = 0)\n",
    "y_kmeans = kmeans.fit_predict(x)"
   ]
  },
  {
   "cell_type": "code",
   "execution_count": 22,
   "metadata": {},
   "outputs": [
    {
     "data": {
      "text/plain": [
       "<matplotlib.legend.Legend at 0x1502263e108>"
      ]
     },
     "execution_count": 22,
     "metadata": {},
     "output_type": "execute_result"
    },
    {
     "data": {
      "image/png": "[encoded data removed]",
      "text/plain": [
       "<Figure size 432x288 with 1 Axes>"
      ]
     },
     "metadata": {
      "needs_background": "light"
     },
     "output_type": "display_data"
    }
   ],
   "source": [
    "# Visualising the clusters - On the first two columns\n",
    "plt.scatter(x[y_kmeans == 0, 0], x[y_kmeans == 0, 1], \n",
    "            s = 100, c = 'red', label = 'Iris-setosa')\n",
    "plt.scatter(x[y_kmeans == 1, 0], x[y_kmeans == 1, 1], \n",
    "            s = 100, c = 'blue', label = 'Iris-versicolour')\n",
    "plt.scatter(x[y_kmeans == 2, 0], x[y_kmeans == 2, 1],\n",
    "            s = 100, c = 'green', label = 'Iris-virginica')\n",
    "\n",
    "# Plotting the centroids of the clusters\n",
    "plt.scatter(kmeans.cluster_centers_[:, 0], kmeans.cluster_centers_[:,1], \n",
    "            s = 100, c = 'yellow', label = 'Centroids')\n",
    "\n",
    "plt.legend()"
   ]
  },
  {
   "cell_type": "markdown",
   "metadata": {},
   "source": [
    "## Conclusion\n",
    "It can be observed that 'Petal' dimensions are better features to create cluster than 'Sepal' dimensions. After performing k-means clustering we got 3 as the optimal number of clusters\n"
   ]
  },
  {
   "cell_type": "code",
   "execution_count": null,
   "metadata": {},
   "outputs": [],
   "source": []
  }
 ],
 "metadata": {
  "kernelspec": {
   "display_name": "Python 3",
   "language": "python",
   "name": "python3"
  },
  "language_info": {
   "codemirror_mode": {
    "name": "ipython",
    "version": 3
   },
   "file_extension": ".py",
   "mimetype": "text/x-python",
   "name": "python",
   "nbconvert_exporter": "python",
   "pygments_lexer": "ipython3",
   "version": "3.8.3"
  }
 },
 "nbformat": 4,
 "nbformat_minor": 2
}
